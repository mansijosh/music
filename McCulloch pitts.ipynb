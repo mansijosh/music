{
 "cells": [
  {
   "cell_type": "code",
   "execution_count": 1,
   "id": "3aae373a-6479-4752-8a34-e9fdba5fe784",
   "metadata": {},
   "outputs": [],
   "source": [
    "import numpy as np"
   ]
  },
  {
   "cell_type": "code",
   "execution_count": 2,
   "id": "351c4027-c1a4-4790-ae63-ebb0532b5ad6",
   "metadata": {},
   "outputs": [],
   "source": [
    "def linear_threshould_gate(dot, T):\n",
    "    if dot >= T:\n",
    "        return 1\n",
    "    else:\n",
    "        return 0\n",
    "    "
   ]
  },
  {
   "cell_type": "code",
   "execution_count": 3,
   "id": "cf82f9a5-00bf-4488-8edd-3503e0b48fc3",
   "metadata": {},
   "outputs": [],
   "source": [
    "input_table = ([\n",
    "    [0,0],\n",
    "    [0,1],\n",
    "    [1,0],\n",
    "    [1,1]\n",
    "])"
   ]
  },
  {
   "cell_type": "code",
   "execution_count": 4,
   "id": "bb705217-ae39-48ad-befd-cdfb0a9798cc",
   "metadata": {},
   "outputs": [],
   "source": [
    "weights = np.array([1,-1])\n",
    "T=1"
   ]
  },
  {
   "cell_type": "code",
   "execution_count": 5,
   "id": "2d04c3e8-412c-46b1-9853-b0086687d4df",
   "metadata": {},
   "outputs": [],
   "source": [
    "dot_products_sum = input_table @ weights"
   ]
  },
  {
   "cell_type": "code",
   "execution_count": 8,
   "id": "ab45b38e-f473-48a1-8bb6-2af3f95a0d62",
   "metadata": {},
   "outputs": [
    {
     "name": "stdout",
     "output_type": "stream",
     "text": [
      "input table:\n",
      "[[0, 0], [0, 1], [1, 0], [1, 1]]\n",
      "dot product:\n",
      "[ 0 -1  1  0]\n"
     ]
    }
   ],
   "source": [
    "print(f'input table:\\n{input_table}')\n",
    "print(f'dot product:\\n{dot_products_sum}')"
   ]
  },
  {
   "cell_type": "code",
   "execution_count": 10,
   "id": "9bfa6209-42a5-45b4-bb45-a028e4507012",
   "metadata": {},
   "outputs": [
    {
     "name": "stdout",
     "output_type": "stream",
     "text": [
      "activation : 0\n",
      "activation : 0\n",
      "activation : 1\n",
      "activation : 0\n"
     ]
    }
   ],
   "source": [
    "for i in range (0,4):\n",
    "    activation = linear_threshould_gate(dot_products_sum[i],T)\n",
    "    print(f'activation : {activation}')"
   ]
  },
  {
   "cell_type": "code",
   "execution_count": null,
   "id": "c1fc9244-a17d-49cc-9be4-289281060ded",
   "metadata": {},
   "outputs": [],
   "source": []
  }
 ],
 "metadata": {
  "kernelspec": {
   "display_name": "Python 3 (ipykernel)",
   "language": "python",
   "name": "python3"
  },
  "language_info": {
   "codemirror_mode": {
    "name": "ipython",
    "version": 3
   },
   "file_extension": ".py",
   "mimetype": "text/x-python",
   "name": "python",
   "nbconvert_exporter": "python",
   "pygments_lexer": "ipython3",
   "version": "3.12.0"
  }
 },
 "nbformat": 4,
 "nbformat_minor": 5
}
