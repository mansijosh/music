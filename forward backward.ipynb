{
 "cells": [
  {
   "cell_type": "code",
   "execution_count": 8,
   "id": "905d768d-a4ff-4cca-b03a-39bafb76d6e5",
   "metadata": {},
   "outputs": [
    {
     "name": "stdout",
     "output_type": "stream",
     "text": [
      "[[0.00652059]\n",
      " [0.98865537]\n",
      " [0.99122732]\n",
      " [0.01206127]]\n"
     ]
    }
   ],
   "source": [
    "#Implement Artificial Neural Network training process in Python by using forward propagation,\n",
    "#backpropagation.\n",
    "\n",
    "# error = target - output\n",
    "# delta = error * sig_derivative (output of that layer)\n",
    "# w = w + transpose_input @ that_layer_delta\n",
    "# b = b + sum of columns of delta of that layer\n",
    "import numpy as np  \n",
    "class NeuralNetwork:\n",
    "    def __init__(self, input_size, hidden_size, output_size): \n",
    "        self.W1 = np.random.randn(input_size, hidden_size) \n",
    "        self.b1 = np.zeros(hidden_size)\n",
    "        self.W2 = np.random.randn(hidden_size, output_size) \n",
    "        self.b2 = np.zeros(output_size)\n",
    " \n",
    "    def sigmoid(self, x):\n",
    "        return 1 / (1 + np.exp(-x))\n",
    "\n",
    "    def sigmoid_derivative(self, x): \n",
    "        return x * (1 - x)\n",
    "\n",
    "    def forward(self, X): \n",
    "        self.z1 = X @ self.W1 + self.b1 \n",
    "        self.a1 = self.sigmoid(self.z1)\n",
    "        self.z2 = self.a1 @ self.W2 + self.b2 \n",
    "        self.a2 = self.sigmoid(self.z2)\n",
    "        return self.a2\n",
    "\n",
    "    def backward(self, X, y, output): \n",
    "        self.output_error = y - output\n",
    "        self.output_delta = self.output_error * self.sigmoid_derivative(output) \n",
    "        self.hidden_error = self.output_delta @ self.W2.T\n",
    "        self.hidden_delta = self.hidden_error * self.sigmoid_derivative(self.a1) \n",
    "        self.W1 += X.T @ self.hidden_delta    #represents the transpose of the input data matrix X\n",
    "        self.b1 += np.sum(self.hidden_delta, axis=0)\n",
    "        self.W2 += self.a1.T @ self.output_delta\n",
    "        self.b2 += np.sum(self.output_delta, axis=0) \n",
    "        \n",
    "    def train(self, X, y, epochs): \n",
    "        for i in range(epochs):\n",
    "            output = self.forward(X)\n",
    "            self.backward(X, y, output) \n",
    "\n",
    "    def predict(self, X):\n",
    "        # Make predictions for a given set of inputs \n",
    "        return self.forward(X)\n",
    "\n",
    "# Define the input and output datasets\n",
    "X = np.array([[0, 0], [0, 1], [1, 0], [1, 1]])\n",
    "y = np.array([[0], [1], [1], [0]])\n",
    "\n",
    "# Create a neural network with 2 input neurons, 4 neurons in the hidden layer, and 1 output neuron\n",
    "nn = NeuralNetwork(2, 4, 1)\n",
    "\n",
    "# Train the neural network on the input and output datasets for 10000 epochs with a learning rate of 0.1\n",
    "nn.train(X, y, epochs=10000)\n",
    "\n",
    "# Use the trained neural network to make predictions on the same input dataset \n",
    "predictions = nn.predict(X)\n",
    "\n",
    "# Print the predictions \n",
    "print(predictions)"
   ]
  },
  {
   "cell_type": "code",
   "execution_count": null,
   "id": "cbacd3b2-bee0-44e4-b1f1-f93c27812f32",
   "metadata": {},
   "outputs": [],
   "source": []
  }
 ],
 "metadata": {
  "kernelspec": {
   "display_name": "Python 3 (ipykernel)",
   "language": "python",
   "name": "python3"
  },
  "language_info": {
   "codemirror_mode": {
    "name": "ipython",
    "version": 3
   },
   "file_extension": ".py",
   "mimetype": "text/x-python",
   "name": "python",
   "nbconvert_exporter": "python",
   "pygments_lexer": "ipython3",
   "version": "3.12.0"
  }
 },
 "nbformat": 4,
 "nbformat_minor": 5
}
