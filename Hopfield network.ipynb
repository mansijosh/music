{
 "cells": [
  {
   "cell_type": "code",
   "execution_count": 22,
   "id": "8c2c7b34-d716-44fa-b84b-58a7fe004c47",
   "metadata": {},
   "outputs": [],
   "source": [
    "import numpy as np"
   ]
  },
  {
   "cell_type": "code",
   "execution_count": 23,
   "id": "650ff946-6b85-41e5-b94c-52a203703a79",
   "metadata": {},
   "outputs": [],
   "source": [
    "vectors = np.array([\n",
    "    [1,1,-1,-1],\n",
    "    [-1,-1,1,1],\n",
    "    [1,-1,1,-1],\n",
    "    [-1,1,-1,1]\n",
    "])"
   ]
  },
  {
   "cell_type": "code",
   "execution_count": 24,
   "id": "7d0f4731-0334-4e23-871d-4dda0f6f4fd7",
   "metadata": {},
   "outputs": [],
   "source": [
    "weights = np.zeros((4,4))\n",
    "for i in range(4):\n",
    "    for j in range(4):\n",
    "        if i==j:\n",
    "            weights[i,j] = 0\n",
    "        else:\n",
    "            weights[i,j] = np.sum(vectors[i] * vectors[j])"
   ]
  },
  {
   "cell_type": "code",
   "execution_count": 25,
   "id": "9c0b56e6-3f57-4d16-822d-1c61f7cd1513",
   "metadata": {},
   "outputs": [],
   "source": [
    "def activation(x):\n",
    "    return np.where(x>=0,1,-1)"
   ]
  },
  {
   "cell_type": "code",
   "execution_count": 26,
   "id": "4174b76c-dcad-4a13-8978-e8aeaf05dff3",
   "metadata": {},
   "outputs": [],
   "source": [
    "def hopfield(input_vector,weights):\n",
    "    output_vector = activation(np.dot(input_vector,weights))\n",
    "    return output_vector"
   ]
  },
  {
   "cell_type": "code",
   "execution_count": 28,
   "id": "2b8ab15a-a9f5-471f-8833-b20556270d76",
   "metadata": {},
   "outputs": [
    {
     "name": "stdout",
     "output_type": "stream",
     "text": [
      "Input vector\n",
      "[ 1 -1  1 -1]\n",
      "Output vector\n",
      "[ 1  1 -1 -1]\n"
     ]
    }
   ],
   "source": [
    "input_vector = vectors[2]\n",
    "output_vectors = hopfield(input_vector,weights)\n",
    "print(\"Input vector\")\n",
    "print(input_vector)\n",
    "print(\"Output vector\")\n",
    "print(output_vector)"
   ]
  },
  {
   "cell_type": "code",
   "execution_count": null,
   "id": "d0d4f09c-d46d-4996-888f-04290e1f9328",
   "metadata": {},
   "outputs": [],
   "source": []
  }
 ],
 "metadata": {
  "kernelspec": {
   "display_name": "Python 3 (ipykernel)",
   "language": "python",
   "name": "python3"
  },
  "language_info": {
   "codemirror_mode": {
    "name": "ipython",
    "version": 3
   },
   "file_extension": ".py",
   "mimetype": "text/x-python",
   "name": "python",
   "nbconvert_exporter": "python",
   "pygments_lexer": "ipython3",
   "version": "3.12.0"
  }
 },
 "nbformat": 4,
 "nbformat_minor": 5
}
