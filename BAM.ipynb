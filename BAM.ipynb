{
 "cells": [
  {
   "cell_type": "code",
   "execution_count": 1,
   "id": "02bcaca4-e0f6-4a0e-8c8c-ed9fe1da06e3",
   "metadata": {},
   "outputs": [],
   "source": [
    "import numpy as np"
   ]
  },
  {
   "cell_type": "code",
   "execution_count": 2,
   "id": "6ffc8749-4503-4437-a211-57e23298cb8e",
   "metadata": {},
   "outputs": [],
   "source": [
    "x1 = [1,1,1,-1]\n",
    "y1 = [1,-1]\n",
    "x2 = [-1,-1,1,1]\n",
    "y2 = [-1,1]"
   ]
  },
  {
   "cell_type": "code",
   "execution_count": 3,
   "id": "dbea70c2-6e37-449a-a8b2-154d846d973c",
   "metadata": {},
   "outputs": [],
   "source": [
    "w = np.outer(y1,x1) + np.outer(y2,x2)"
   ]
  },
  {
   "cell_type": "code",
   "execution_count": 4,
   "id": "73b4317e-1541-474c-ac38-c126004c6e75",
   "metadata": {},
   "outputs": [],
   "source": [
    "def bam(x):\n",
    "    y = w @ x\n",
    "    return np.where(y>=0, 1, -1)"
   ]
  },
  {
   "cell_type": "code",
   "execution_count": 5,
   "id": "98c21d19-1503-4238-9c4f-b6ec60d7f900",
   "metadata": {},
   "outputs": [],
   "source": [
    "x_test = np.array([1, -1, -1, -1]) \n",
    "y_test = bam(x_test)"
   ]
  },
  {
   "cell_type": "code",
   "execution_count": 6,
   "id": "c3458ef8-6a65-45d6-9b07-9e6a828bae50",
   "metadata": {},
   "outputs": [
    {
     "name": "stdout",
     "output_type": "stream",
     "text": [
      "Input x : [ 1 -1 -1 -1]\n",
      "output y : [ 1 -1]\n"
     ]
    }
   ],
   "source": [
    "print(\"Input x :\",x_test)\n",
    "print(\"output y :\",y_test)"
   ]
  },
  {
   "cell_type": "code",
   "execution_count": null,
   "id": "c741da4c-ce49-4eb8-a0d7-f225a12f4103",
   "metadata": {},
   "outputs": [],
   "source": []
  },
  {
   "cell_type": "code",
   "execution_count": null,
   "id": "615f24b5-73f5-4e50-8e8c-efe26ffa3930",
   "metadata": {},
   "outputs": [],
   "source": []
  }
 ],
 "metadata": {
  "kernelspec": {
   "display_name": "Python 3 (ipykernel)",
   "language": "python",
   "name": "python3"
  },
  "language_info": {
   "codemirror_mode": {
    "name": "ipython",
    "version": 3
   },
   "file_extension": ".py",
   "mimetype": "text/x-python",
   "name": "python",
   "nbconvert_exporter": "python",
   "pygments_lexer": "ipython3",
   "version": "3.12.0"
  }
 },
 "nbformat": 4,
 "nbformat_minor": 5
}
