{
 "cells": [
  {
   "cell_type": "code",
   "execution_count": 1,
   "id": "7753a07c-02fa-4486-ab9d-8a10709b14ee",
   "metadata": {},
   "outputs": [
    {
     "name": "stdout",
     "output_type": "stream",
     "text": [
      "[-0.70710678 -0.70710678  0.          0.        ]\n",
      "[0. 0. 1. 0.]\n"
     ]
    }
   ],
   "source": [
    "import numpy as np\n",
    "\n",
    "class ARTNetwork:\n",
    "    def __init__(self, input_size, vigilance):\n",
    "        self.input_size = input_size\n",
    "        self.vigilance = vigilance\n",
    "        self.weights = np.zeros((input_size,1))\n",
    "\n",
    "    def train(self, input_data,epochs):\n",
    "        normalized_input = input_data / np.linalg.norm(input_data)\n",
    "        for _ in range(epochs):\n",
    "            similarity = normalized_input @ self.weights\n",
    "            if similarity.any() >= self.vigilance:\n",
    "                return\n",
    "            self.weights = np.maximum(self.weights, normalized_input)\n",
    "            normalized_input = self.weights / np.linalg.norm(self.weights)\n",
    "\n",
    "    def predict(self, input_data):\n",
    "        normalized_input = input_data / np.linalg.norm(input_data)\n",
    "        similarity = normalized_input @ self.weights\n",
    "        if similarity.any() >= self.vigilance:\n",
    "            output_pattern = np.zeros(len(similarity))\n",
    "            print(similarity)\n",
    "            winner = np.argmax(similarity)\n",
    "            output_pattern[winner] = 1\n",
    "        else:\n",
    "            output_pattern = np.zeros(len(similarity) + 1)\n",
    "            output_pattern[-1] = 1\n",
    "        return output_pattern\n",
    "\n",
    "# Usage example\n",
    "input_size = 4\n",
    "vigilance = 0.9\n",
    "art = ARTNetwork(input_size, vigilance)\n",
    "\n",
    "# Training data\n",
    "data = np.array([[1, 1, 0, 0],\n",
    "                 [0, 1, 0, 1],\n",
    "                 [0, 0, 1, 1],\n",
    "                 [1, 0, 1, 0]])\n",
    "\n",
    "# Train the ART network\n",
    "for sample in data:\n",
    "    art.train(sample,1000)\n",
    "\n",
    "# Test a new input\n",
    "new_input = np.array([0, -1, 0, 0])\n",
    "new_output = art.predict(new_input)\n",
    "print(new_output)"
   ]
  },
  {
   "cell_type": "code",
   "execution_count": null,
   "id": "af0b459e-c42e-490d-9435-23170c69b318",
   "metadata": {},
   "outputs": [],
   "source": []
  }
 ],
 "metadata": {
  "kernelspec": {
   "display_name": "Python 3 (ipykernel)",
   "language": "python",
   "name": "python3"
  },
  "language_info": {
   "codemirror_mode": {
    "name": "ipython",
    "version": 3
   },
   "file_extension": ".py",
   "mimetype": "text/x-python",
   "name": "python",
   "nbconvert_exporter": "python",
   "pygments_lexer": "ipython3",
   "version": "3.12.0"
  }
 },
 "nbformat": 4,
 "nbformat_minor": 5
}
